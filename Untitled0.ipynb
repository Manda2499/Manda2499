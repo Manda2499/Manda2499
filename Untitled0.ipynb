{
  "nbformat": 4,
  "nbformat_minor": 0,
  "metadata": {
    "colab": {
      "name": "Untitled0.ipynb",
      "provenance": [],
      "authorship_tag": "ABX9TyOvly7Z+d+BkFET87n1QBO4",
      "include_colab_link": true
    },
    "kernelspec": {
      "name": "python3",
      "display_name": "Python 3"
    },
    "language_info": {
      "name": "python"
    }
  },
  "cells": [
    {
      "cell_type": "markdown",
      "metadata": {
        "id": "view-in-github",
        "colab_type": "text"
      },
      "source": [
        "<a href=\"https://colab.research.google.com/github/Manda2499/Manda2499/blob/main/Untitled0.ipynb\" target=\"_parent\"><img src=\"https://colab.research.google.com/assets/colab-badge.svg\" alt=\"Open In Colab\"/></a>"
      ]
    },
    {
      "cell_type": "markdown",
      "source": [
        "Installation package"
      ],
      "metadata": {
        "id": "8gqVNzeKg7uD"
      }
    },
    {
      "cell_type": "code",
      "execution_count": null,
      "metadata": {
        "id": "BDjVjZSagXlQ"
      },
      "outputs": [],
      "source": [
        "pip install python-binance"
      ]
    },
    {
      "cell_type": "code",
      "source": [
        "pip install ta"
      ],
      "metadata": {
        "id": "lhCBuX0Cg2Fs"
      },
      "execution_count": null,
      "outputs": []
    },
    {
      "cell_type": "code",
      "source": [
        "import pandas as pd\n",
        "from binance.client import Client\n",
        "import ta\n",
        "\n",
        "KlinesT = Client().get_historical_klines(\"BTCUSDT\", Client.KLINE_INTERVAL_1HOUR, \"01 january 2021\")\n",
        "df = pd.DataFrame(KlinesT, columns=['timestamp', 'open', 'high', 'low', 'close', 'volume', 'close_time', 'quote_av', 'trades', 'tb_base_av', 'tb_quote_av', 'ignore'])\n"
      ],
      "metadata": {
        "id": "_im0qVYyhSQ_"
      },
      "execution_count": 5,
      "outputs": []
    },
    {
      "cell_type": "markdown",
      "source": [
        "Affichage des données vers **binance** **texte en gras**"
      ],
      "metadata": {
        "id": "16hoED3Ficuz"
      }
    },
    {
      "cell_type": "code",
      "source": [
        "print(df)"
      ],
      "metadata": {
        "colab": {
          "base_uri": "https://localhost:8080/"
        },
        "id": "c6F9BdgJiORf",
        "outputId": "81077952-3d1f-4b0f-8530-3213f7290be6"
      },
      "execution_count": 6,
      "outputs": [
        {
          "output_type": "stream",
          "name": "stdout",
          "text": [
            "          timestamp            open  ...        tb_quote_av ignore\n",
            "0     1609459200000  28923.63000000  ...  35103542.78288276      0\n",
            "1     1609462800000  28995.13000000  ...  92613991.93555293      0\n",
            "2     1609466400000  29410.00000000  ...  35252749.90832606      0\n",
            "3     1609470000000  29195.25000000  ...  22705547.98307977      0\n",
            "4     1609473600000  29278.41000000  ...  29346381.88020654      0\n",
            "...             ...             ...  ...                ...    ...\n",
            "9020  1641978000000  42603.51000000  ...  28453142.98494070      0\n",
            "9021  1641981600000  42796.84000000  ...  30587324.62774740      0\n",
            "9022  1641985200000  42765.18000000  ...  63952044.69550610      0\n",
            "9023  1641988800000  42935.92000000  ...  54861901.71637010      0\n",
            "9024  1641992400000  43285.52000000  ...  84569982.52565300      0\n",
            "\n",
            "[9025 rows x 12 columns]\n"
          ]
        }
      ]
    },
    {
      "cell_type": "code",
      "source": [
        " "
      ],
      "metadata": {
        "id": "ImBT-FnAiXBG"
      },
      "execution_count": 6,
      "outputs": []
    }
  ]
}